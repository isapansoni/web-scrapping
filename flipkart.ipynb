{
 "cells": [
  {
   "cell_type": "code",
   "execution_count": 1,
   "metadata": {
    "collapsed": true
   },
   "outputs": [],
   "source": [
    "import requests\n",
    "from bs4 import BeautifulSoup as bs\n",
    "download.()\n"
   ]
  },
  {
   "cell_type": "code",
   "execution_count": 3,
   "metadata": {
    "collapsed": true
   },
   "outputs": [],
   "source": [
    "url=requests.get(\"https://www.flipkart.com/mobiles/pr?sid=tyy%2F4io&p%5B%5D=facets.brand%255B%255D%3DApple&p%5B%5D=facets.availability%255B%255D%3DExclude%2BOut%2Bof%2BStock&otracker=clp_metro_expandable_1_apple-categ-94e9d_iPhone_apple-products-store_90ff40fd-a46b-4a40-9440-fbe783136afb_DesktopSite_wp1&fm=neo/merchandising&iid=M_c33a4ac8-1251-4f4e-8d98-a89a8f924a07_1.90ff40fd-a46b-4a40-9440-fbe783136afb_DesktopSite&ppt=CLP&ppn=CLP:apple-products-store\")\n",
    "data= url.content"
   ]
  },
  {
   "cell_type": "code",
   "execution_count": 27,
   "metadata": {
    "scrolled": false
   },
   "outputs": [
    {
     "data": {
      "text/plain": [
       "24"
      ]
     },
     "execution_count": 27,
     "metadata": {},
     "output_type": "execute_result"
    }
   ],
   "source": [
    "soup=bs(data,\"html.parser\")\n",
    "#print(soup.prettify())\n",
    "all_mobile_name=soup.find_all(\"div\",{\"class\":\"_3wU53n\"})\n",
    "len(all_mobile_name)    #####showing 24 iphone "
   ]
  },
  {
   "cell_type": "code",
   "execution_count": 17,
   "metadata": {
    "collapsed": true
   },
   "outputs": [],
   "source": [
    "all=soup.find(\"div\",{\"class\":\"_3wU53n\"}).text #imp line"
   ]
  },
  {
   "cell_type": "code",
   "execution_count": 36,
   "metadata": {
    "collapsed": true
   },
   "outputs": [],
   "source": [
    "all_mobile_name=soup.find_all(\"div\",{\"class\":\"_3wU53n\"})"
   ]
  },
  {
   "cell_type": "code",
   "execution_count": 43,
   "metadata": {},
   "outputs": [
    {
     "data": {
      "text/plain": [
       "24"
      ]
     },
     "execution_count": 43,
     "metadata": {},
     "output_type": "execute_result"
    }
   ],
   "source": [
    "all_mobile=soup.find_all(\"div\",{\"class\":\"_1-2Iqu row\"})\n",
    "len(all_mobile)"
   ]
  },
  {
   "cell_type": "code",
   "execution_count": 197,
   "metadata": {},
   "outputs": [
    {
     "name": "stdout",
     "output_type": "stream",
     "text": [
      "Apple iPhone SE (Space Grey, 32 GB)\n",
      "4.4 ★\n",
      "₹19,999\n",
      " \n",
      "Apple iPhone SE (Rose Gold, 32 GB)\n",
      "4.4 ★\n",
      "₹19,999\n",
      " \n",
      "Apple iPhone 7 (Black, 32 GB)\n",
      "4.5 ★\n",
      "₹42,999\n",
      " \n",
      "Apple iPhone SE (Gold, 32 GB)\n",
      "4.4 ★\n",
      "₹19,999\n",
      " \n",
      "Apple iPhone 6s Plus (Space Grey, 32 GB)\n",
      "4.4 ★\n",
      "₹39,999\n",
      " \n",
      "Apple iPhone 6s Plus (Gold, 32 GB)\n",
      "4.4 ★\n",
      "₹39,999\n",
      " \n",
      "Apple iPhone 7 (Rose Gold, 32 GB)\n",
      "4.5 ★\n",
      "₹42,999\n",
      " \n",
      "Apple iPhone 6s (Space Grey, 32 GB)\n",
      "4.5 ★\n",
      "₹35,499\n",
      " \n",
      "Apple iPhone 7 (Gold, 32 GB)\n",
      "4.5 ★\n",
      "₹42,999\n",
      " \n",
      "Apple iPhone 6s Plus (Silver, 32 GB)\n",
      "4.5 ★\n",
      "₹39,999\n",
      " \n",
      "Apple iPhone 6s (Rose Gold, 32 GB)\n",
      "4.4 ★\n",
      "₹35,499\n",
      " \n",
      "Apple iPhone 7 (Jet Black, 32 GB)\n",
      "4.5 ★\n",
      "₹43,999\n",
      " \n",
      "Apple iPhone 6s (Gold, 32 GB)\n",
      "4.4 ★\n",
      "₹35,499\n",
      " \n",
      "Apple iPhone SE (Rose Gold, 128 GB)\n",
      "4.4 ★\n",
      "₹27,999\n",
      " \n",
      "Apple iPhone 5s (Silver, 16 GB)\n",
      "4.3 ★\n",
      "₹25,000\n",
      " \n",
      "Apple iPhone 7 Plus (Jet Black, 32 GB)\n",
      "4.5 ★\n",
      "₹56,999\n",
      " \n",
      "Apple iPhone 7 (Black, 128 GB)\n",
      "4.6 ★\n",
      "₹55,999\n",
      " \n",
      "Apple iPhone 8 (Gold, 64 GB)\n",
      "4.6 ★\n",
      "₹59,999\n",
      " \n",
      "Apple iPhone 6s Plus (Rose Gold, 128 GB)\n",
      "3.6 ★\n",
      "₹49,990\n",
      " \n",
      "Apple iPhone X (Space Gray, 256 GB)\n",
      "4.7 ★\n",
      "₹102,000\n",
      " \n",
      "Apple iPhone X (Space Gray, 64 GB)\n",
      "4.7 ★\n",
      "₹89,000\n",
      " \n",
      "Apple iPhone 6s Plus (Silver, 128 GB)\n",
      "3.1 ★\n",
      "₹70,000\n",
      " \n",
      "Apple iPhone 6s Plus (Space Grey, 16 GB)\n",
      "4.4 ★\n",
      "₹42,990\n",
      " \n",
      "Apple iPhone 7 (Jet Black, 128 GB)\n",
      "4.5 ★\n",
      "₹54,749\n",
      " \n"
     ]
    }
   ],
   "source": [
    "for i in all_mobile:\n",
    "    print(i.find(\"div\",{\"class\":\"_3wU53n\"}).text)\n",
    "    print(i.find(\"div\",{\"class\":\"hGSR34 _2beYZw\"}).text)\n",
    "    print(i.find(\"div\",{\"class\":\"_1vC4OE _2rQ-NK\"}).text)\n",
    "    print(\" \")"
   ]
  },
  {
   "cell_type": "code",
   "execution_count": 101,
   "metadata": {
    "collapsed": true
   },
   "outputs": [],
   "source": [
    "#single=soup.find_all(\"div\",{\"class\":\"_1-2Iqu row\"})[0]\n",
    "#print(single.prettify())"
   ]
  },
  {
   "cell_type": "code",
   "execution_count": 192,
   "metadata": {},
   "outputs": [
    {
     "name": "stdout",
     "output_type": "stream",
     "text": [
      "32 GB ROM\n",
      "4 inch Retina Display12MP Rear Camera\n",
      "1.2MP Front CameraLi-Ion BatteryApple A9 64-bit processor and Embedded M9 Motion Co-processorBrand Warranty of 1 Year\n",
      "32 GB ROM\n",
      "4 inch Retina Display12MP Rear Camera\n",
      "1.2MP Front CameraLi-Ion BatteryApple A9 64-bit processor and Embedded M9 Motion Co-processorBrand Warranty of 1 Year\n",
      "32 GB ROM\n",
      "4.7 inch Retina HD Display12MP Rear Camera\n",
      "7MP Front CameraLi-Ion BatteryApple A10 Fusion 64-bit processor and Embedded M10 Motion Co-processorBrand Warranty of 1 Year\n",
      "32 GB ROM\n",
      "4 inch Retina Display12MP Rear Camera\n",
      "1.2MP Front CameraLi-Ion BatteryApple A9 64-bit processor and Embedded M9 Motion Co-processorBrand Warranty of 1 Year\n",
      "32 GB ROM\n",
      "5.5 inch Retina HD Display12MP Rear Camera\n",
      "5MP Front CameraLi-Ion BatteryApple A9 64-bit processor and Embedded M9 Motion Co-processorBrand Warranty of 1 Year\n",
      "32 GB ROM\n",
      "5.5 inch Retina HD Display12MP Rear Camera\n",
      "5MP Front CameraLi-Ion BatteryApple A9 64-bit processor and Embedded M9 Motion Co-processorBrand Warranty of 1 Year\n",
      "32 GB ROM\n",
      "4.7 inch Retina HD Display12MP Rear Camera\n",
      "7MP Front CameraLi-Ion BatteryApple A10 Fusion 64-bit processor and Embedded M10 Motion Co-processorBrand Warranty of 1 Year\n",
      "32 GB ROM\n",
      "4.7 inch Retina HD Display12MP Rear Camera\n",
      "5MP Front CameraLi-Ion BatteryApple A9 64-bit processor and Embedded M9 Motion Co-processorBrand Warranty of 1 Year\n",
      "32 GB ROM\n",
      "4.7 inch Retina HD Display12MP Rear Camera\n",
      "7MP Front CameraLi-Ion BatteryApple A10 Fusion 64-bit processor and Embedded M10 Motion Co-processorBrand Warranty of 1 Year\n",
      "32 GB ROM\n",
      "5.5 inch Retina HD Display12MP Rear Camera\n",
      "5MP Front CameraLi-Ion BatteryApple A9 64-bit processor and Embedded M9 Motion Co-processorBrand Warranty of 1 Year\n",
      "32 GB ROM\n",
      "4.7 inch Retina HD Display12MP Rear Camera\n",
      "5MP Front CameraLi-Ion BatteryApple A9 64-bit processor and M9 Motion Co-processorBrand Warranty of 1 Year\n",
      "32 GB ROM\n",
      "4.7 inch Retina HD Display12MP Rear Camera\n",
      "7MP Front CameraLi-Ion BatteryApple A10 Fusion 64-bit processor and Embedded M10 Motion Co-processorBrand Warranty of 1 Year\n",
      "32 GB ROM\n",
      "4.7 inch Retina HD Display12MP Rear Camera\n",
      "5MP Front CameraLi-Ion BatteryApple A9 64-bit processor and Embedded M9 Motion Co-processorBrand Warranty of 1 Year\n",
      "128 GB ROM\n",
      "4 inch Retina Display12MP Rear Camera\n",
      "1.2MP Front CameraLi-Ion BatteryApple A9 64-bit processor and Embedded M9 Motion Co-processorBrand Warranty of 1 Year\n",
      "16 GB ROM\n",
      "4 inch Retina Display8MP Rear Camera\n",
      "1.2MP Front CameraLi-Ion BatteryApple A7 64-bit processor and M7 Motion Co-processor1 Year Manufacturer Warranty\n",
      "32 GB ROM\n",
      "5.5 inch Retina HD Display12MP + 12MP Dual Rear Camera\n",
      "7MP Front CameraLi-Ion BatteryApple A10 Fusion 64-bit processor and Embedded M10 Motion Co-processor1 Year Manufacturer Warranty\n",
      "128 GB ROM\n",
      "4.7 inch Retina HD Display12MP Rear Camera\n",
      "7MP Front CameraLi-Ion BatteryApple A10 Fusion 64-bit processor and Embedded M10 Motion Co-processorBrand Warranty of 1 Year\n",
      "64 GB ROM\n",
      "4.7 inch Retina HD Display12MP Rear Camera\n",
      "7MP Front Cameralithium-ion BatteryA11 Bionic Chip with 64-bit Architecture, Neural Engine, Embedded M11 Motion Coprocessor ProcessorBrand Warranty of 1 Year\n",
      "128 GB ROM\n",
      "5.5 inch Retina HD Display12MP Rear Camera\n",
      "5MP Front CameraLi-Ion BatteryA9 Chip with 64-bit Architecture and M9 Motion Co-processorBrand Warranty of 1 Year\n",
      "256 GB ROM\n",
      "5.8 inch Super Retina HD Display12MP + 12MP Dual Rear Camera\n",
      "7MP Front Cameralithium-ion BatteryA11 Bionic Chip with 64-bit Architecture, Neural Engine, Embedded M11 Motion Coprocessor ProcessorBrand Warranty of 1 Year\n",
      "64 GB ROM\n",
      "5.8 inch Super Retina HD Display12MP + 12MP Dual Rear Camera\n",
      "7MP Front Cameralithium-ion BatteryA11 Bionic Chip with 64-bit Architecture, Neural Engine, Embedded M11 Motion Coprocessor ProcessorBrand Warranty of 1 Year\n",
      "128 GB ROM\n",
      "5.5 inch Retina HD Display12MP Rear Camera\n",
      "5MP Front CameraLi-Ion BatteryA9 Chip with 64-bit Architecture and M9 Motion Co-processorBrand Warranty of 1 Year\n",
      "16 GB ROM\n",
      "5.5 inch Retina HD Display12MP Rear Camera\n",
      "5MP Front CameraLi-Ion BatteryApple A9 64-bit processor and Embedded M9 Motion Co-processorBrand Warranty of 1 Year\n",
      "128 GB ROM\n",
      "4.7 inch Retina HD Display12MP Rear Camera\n",
      "7MP Front CameraLi-Ion BatteryApple A10 Fusion 64-bit processor and Embedded M10 Motion Co-processorBrand Warranty of 1 Year\n"
     ]
    },
    {
     "data": {
      "text/plain": [
       "str"
      ]
     },
     "execution_count": 192,
     "metadata": {},
     "output_type": "execute_result"
    }
   ],
   "source": [
    "\n",
    "sap1=soup.find_all(\"div\",{\"class\":\"_3ULzGw\"})\n",
    "len(sap1)\n",
    "type(sap1)\n",
    "for set in sap1:\n",
    "    sap2=set.text\n",
    "    sap3=[x.strip() for x in sap2.split('|')]\n",
    "    for val in sap3:\n",
    "        print(val)\n",
    "type(val)"
   ]
  },
  {
   "cell_type": "code",
   "execution_count": 167,
   "metadata": {
    "scrolled": false
   },
   "outputs": [
    {
     "data": {
      "text/plain": [
       "[<li class=\"tVe95H\" data-reactid=\"504\">32 GB ROM |</li>,\n",
       " <li class=\"tVe95H\" data-reactid=\"505\">4 inch Retina Display</li>,\n",
       " <li class=\"tVe95H\" data-reactid=\"506\">12MP Rear Camera | 1.2MP Front Camera</li>,\n",
       " <li class=\"tVe95H\" data-reactid=\"507\">Li-Ion Battery</li>,\n",
       " <li class=\"tVe95H\" data-reactid=\"508\">Apple A9 64-bit processor and Embedded M9 Motion Co-processor</li>,\n",
       " <li class=\"tVe95H\" data-reactid=\"509\">Brand Warranty of 1 Year</li>]"
      ]
     },
     "execution_count": 167,
     "metadata": {},
     "output_type": "execute_result"
    }
   ],
   "source": [
    "#sap1[0]\n",
    "#for value in sap1[22]:\n",
    "#    (value.find_all(\"li\",{\"class\":\"tVe95H\"}).text)\n",
    "\n",
    "abc=(sap1[0].find_all(\"li\",{\"class\":\"tVe95H\"}))\n",
    "abc\n"
   ]
  },
  {
   "cell_type": "code",
   "execution_count": 159,
   "metadata": {},
   "outputs": [
    {
     "name": "stdout",
     "output_type": "stream",
     "text": [
      "32 GB ROM |\n",
      "4 inch Retina Display\n",
      "12MP Rear Camera | 1.2MP Front Camera\n",
      "Li-Ion Battery\n",
      "Apple A9 64-bit processor and Embedded M9 Motion Co-processor\n",
      "Brand Warranty of 1 Year\n"
     ]
    }
   ],
   "source": [
    "for value in abc:\n",
    "    print(value.text)"
   ]
  },
  {
   "cell_type": "code",
   "execution_count": null,
   "metadata": {
    "collapsed": true
   },
   "outputs": [],
   "source": []
  },
  {
   "cell_type": "code",
   "execution_count": null,
   "metadata": {
    "collapsed": true
   },
   "outputs": [],
   "source": []
  }
 ],
 "metadata": {
  "kernelspec": {
   "display_name": "Python 3",
   "language": "python",
   "name": "python3"
  },
  "language_info": {
   "codemirror_mode": {
    "name": "ipython",
    "version": 3
   },
   "file_extension": ".py",
   "mimetype": "text/x-python",
   "name": "python",
   "nbconvert_exporter": "python",
   "pygments_lexer": "ipython3",
   "version": "3.6.3"
  }
 },
 "nbformat": 4,
 "nbformat_minor": 2
}
